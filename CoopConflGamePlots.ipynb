{
 "cells": [
  {
   "cell_type": "code",
   "execution_count": 1,
   "metadata": {},
   "outputs": [
    {
     "data": {
      "text/plain": [
       "plot_simulation_data_Plotly (generic function with 1 method)"
      ]
     },
     "metadata": {},
     "output_type": "display_data"
    }
   ],
   "source": [
    "include(\"CoopConflGamePlots.jl\")"
   ]
  },
  {
   "cell_type": "code",
   "execution_count": 3,
   "metadata": {},
   "outputs": [
    {
     "ename": "MethodError",
     "evalue": "MethodError: no method matching SimulationParameters(; action0::Float32, a0::Float32, p0::Float32, population_size::Int64, group_size::Int64, relatedness::Float64, inflation_factor::Int64, fitness_scaling_factor_b::Float64)\n\nClosest candidates are:\n  SimulationParameters(; action0, norm0, ext_pun0, int_pun0, gmax, tmax, population_size, group_size, synergy, relatedness, inflation_factor, fitness_scaling_factor_a, fitness_scaling_factor_b, mutation_rate, mutation_variance, trait_variance, output_save_tick) got unsupported keyword arguments \"a0\", \"p0\"\n   @ Main c:\\GitHub\\CoopConfStoch\\CoopConflGameStructs.jl:28\n",
     "output_type": "error",
     "traceback": [
      "MethodError: no method matching SimulationParameters(; action0::Float32, a0::Float32, p0::Float32, population_size::Int64, group_size::Int64, relatedness::Float64, inflation_factor::Int64, fitness_scaling_factor_b::Float64)\n",
      "\n",
      "Closest candidates are:\n",
      "  SimulationParameters(; action0, norm0, ext_pun0, int_pun0, gmax, tmax, population_size, group_size, synergy, relatedness, inflation_factor, fitness_scaling_factor_a, fitness_scaling_factor_b, mutation_rate, mutation_variance, trait_variance, output_save_tick) got unsupported keyword arguments \"a0\", \"p0\"\n",
      "   @ Main c:\\GitHub\\CoopConfStoch\\CoopConflGameStructs.jl:28\n",
      "\n",
      "\n",
      "Stacktrace:\n",
      " [1] kwerr(kw::@NamedTuple{action0::Float32, a0::Float32, p0::Float32, population_size::Int64, group_size::Int64, relatedness::Float64, inflation_factor::Int64, fitness_scaling_factor_b::Float64}, args::Type)\n",
      "   @ Base .\\error.jl:165\n",
      " [2] top-level scope\n",
      "   @ c:\\GitHub\\CoopConfStoch\\jl_notebook_cell_df34fa98e69747e1a8f8a730347b8e2f_W1sZmlsZQ==.jl:1"
     ]
    }
   ],
   "source": [
    "my_parameter_50 = SimulationParameters(action0=0.1f0, norm0=2.0f0, ext_pun0=0.1f0, population_size=10, group_size=2, relatedness=0.5, inflation_factor=8, fitness_scaling_factor_b=2.0);"
   ]
  },
  {
   "cell_type": "code",
   "execution_count": null,
   "metadata": {},
   "outputs": [],
   "source": [
    "@time my_simulation_50 = simulation_replicate(my_parameter_50, 5);"
   ]
  },
  {
   "cell_type": "code",
   "execution_count": null,
   "metadata": {},
   "outputs": [],
   "source": [
    "plot_simulation_data_Plots(my_simulation_50)"
   ]
  },
  {
   "cell_type": "code",
   "execution_count": null,
   "metadata": {},
   "outputs": [],
   "source": [
    "plot_simulation_data_Plotly(my_simulation_50)"
   ]
  },
  {
   "cell_type": "code",
   "execution_count": null,
   "metadata": {},
   "outputs": [],
   "source": [
    "my_parameter_160 = SimulationParameters(action0=0.1f0, norm0=2.0f0, ext_pun0=0.1f0, population_size=160, group_size=2, relatedness=0.5, inflation_factor=8, fitness_scaling_factor_b=2.0);"
   ]
  },
  {
   "cell_type": "code",
   "execution_count": null,
   "metadata": {},
   "outputs": [],
   "source": [
    "@time my_simulation_160 = simulation_replicate(my_parameter_160, 5);"
   ]
  },
  {
   "cell_type": "code",
   "execution_count": null,
   "metadata": {},
   "outputs": [],
   "source": [
    "plot_simulation_data_Plots(my_simulation_160)"
   ]
  },
  {
   "cell_type": "code",
   "execution_count": null,
   "metadata": {},
   "outputs": [],
   "source": [
    "plot_simulation_data_Plotly(my_simulation_160)"
   ]
  },
  {
   "cell_type": "code",
   "execution_count": null,
   "metadata": {},
   "outputs": [],
   "source": [
    "my_parameter_500 = SimulationParameters(action0=0.1f0, norm0=2.0f0, ext_pun0=0.1f0, population_size=500, group_size=2, relatedness=0.5, inflation_factor=8, fitness_scaling_factor_b=2.0);"
   ]
  },
  {
   "cell_type": "code",
   "execution_count": null,
   "metadata": {},
   "outputs": [],
   "source": [
    "@time my_simulation_500 = simulation_replicate(my_parameter_500, 5);"
   ]
  },
  {
   "cell_type": "code",
   "execution_count": null,
   "metadata": {},
   "outputs": [],
   "source": [
    "plot_simulation_data_Plots(my_simulation_500)"
   ]
  },
  {
   "cell_type": "code",
   "execution_count": null,
   "metadata": {},
   "outputs": [],
   "source": [
    "plot_simulation_data_Plotly(my_simulation_500)"
   ]
  }
 ],
 "metadata": {
  "kernelspec": {
   "display_name": "Julia 1.10.2",
   "language": "julia",
   "name": "julia-1.10"
  },
  "language_info": {
   "file_extension": ".jl",
   "mimetype": "application/julia",
   "name": "julia",
   "version": "1.10.2"
  }
 },
 "nbformat": 4,
 "nbformat_minor": 2
}
