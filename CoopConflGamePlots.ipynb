{
 "cells": [
  {
   "cell_type": "code",
   "execution_count": null,
   "metadata": {},
   "outputs": [],
   "source": [
    "using Distributed\n",
    "addprocs(4);  # Add workers if not enough are available"
   ]
  },
  {
   "cell_type": "code",
   "execution_count": null,
   "metadata": {},
   "outputs": [],
   "source": [
    "using BenchmarkTools\n",
    "@everywhere include(\"CoopConflGamePlots.jl\")"
   ]
  },
  {
   "cell_type": "code",
   "execution_count": null,
   "metadata": {},
   "outputs": [],
   "source": [
    "my_parameter_50 = SimulationParameters(action0=0.1f0,\n",
    "                                       norm0=2.0f0,\n",
    "                                       ext_pun0=0.1f0,\n",
    "                                       int_pun_ext0=0.0f0,\n",
    "                                       int_pun_self0=0.0f0,\n",
    "                                       population_size=50,\n",
    "                                       group_size=10,\n",
    "                                       relatedness=0.5);"
   ]
  },
  {
   "cell_type": "code",
   "execution_count": null,
   "metadata": {},
   "outputs": [],
   "source": [
    "@time my_simulation_50 = simulation_replicate(my_parameter_50, 5);"
   ]
  },
  {
   "cell_type": "code",
   "execution_count": null,
   "metadata": {},
   "outputs": [],
   "source": [
    "save_simulation(my_simulation_50, \"my_simulation_50.csv\")"
   ]
  },
  {
   "cell_type": "code",
   "execution_count": null,
   "metadata": {},
   "outputs": [],
   "source": [
    "plot_simulation_data_Plots(my_simulation_50)"
   ]
  },
  {
   "cell_type": "code",
   "execution_count": null,
   "metadata": {},
   "outputs": [],
   "source": [
    "plot_simulation_data_Plotly(my_simulation_50)"
   ]
  },
  {
   "cell_type": "code",
   "execution_count": null,
   "metadata": {},
   "outputs": [],
   "source": [
    "create_trait_table(my_simulation_50)"
   ]
  },
  {
   "cell_type": "code",
   "execution_count": null,
   "metadata": {},
   "outputs": [],
   "source": [
    "relatedness_values = collect(range(0, 1, step=0.1));\n",
    "parameter_sweep = map(relatedness_values -> SimulationParameters(action0=0.1f0,\n",
    "                                           norm0=2.0f0,\n",
    "                                           ext_pun0=0.1f0,\n",
    "                                           int_pun_ext0=0.0f0,\n",
    "                                           int_pun_self0=0.0f0,\n",
    "                                           population_size=50,\n",
    "                                           group_size=10,\n",
    "                                           relatedness=relatedness_values),\n",
    "                    relatedness_values)"
   ]
  },
  {
   "cell_type": "code",
   "execution_count": null,
   "metadata": {},
   "outputs": [],
   "source": [
    "simulation_sweep = simulation_replicate(parameter_sweep, 40);"
   ]
  },
  {
   "cell_type": "code",
   "execution_count": null,
   "metadata": {},
   "outputs": [],
   "source": [
    "save_simulation(simulation_sweep, \"simulation_sweep.csv\")"
   ]
  },
  {
   "cell_type": "code",
   "execution_count": null,
   "metadata": {},
   "outputs": [],
   "source": [
    "plot_simulation_data_Plots(simulation_sweep)"
   ]
  },
  {
   "cell_type": "code",
   "execution_count": null,
   "metadata": {},
   "outputs": [],
   "source": [
    "plot_simulation_data_Plotly(simulation_sweep)"
   ]
  },
  {
   "cell_type": "code",
   "execution_count": null,
   "metadata": {},
   "outputs": [],
   "source": [
    "create_trait_table(simulation_sweep)"
   ]
  }
 ],
 "metadata": {
  "kernelspec": {
   "display_name": "Julia 1.10.5",
   "language": "julia",
   "name": "julia-1.10"
  },
  "language_info": {
   "file_extension": ".jl",
   "mimetype": "application/julia",
   "name": "julia",
   "version": "1.10.5"
  }
 },
 "nbformat": 4,
 "nbformat_minor": 2
}
